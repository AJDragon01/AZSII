{
  "cells": [
    {
      "cell_type": "markdown",
      "metadata": {
        "id": "q3JwJ2-dBWxI"
      },
      "source": [
        "\n",
        "# Практика 3\n"
      ]
    },
    {
      "cell_type": "markdown",
      "metadata": {
        "id": "9E1T7XO0BWxJ"
      },
      "source": [
        "## Выполнил студент группы ББМО-01-23 Егоров Юрий Александрович"
      ]
    },
    {
      "cell_type": "markdown",
      "metadata": {
        "id": "aiNq-RGeBWxJ"
      },
      "source": [
        "### Пункт 1\n"
      ]
    },
    {
      "cell_type": "code",
      "execution_count": 1,
      "metadata": {
        "colab": {
          "base_uri": "https://localhost:8080/"
        },
        "id": "TKipWwHHBjnA",
        "outputId": "4665a230-af75-4855-9c83-cddcda7b88df"
      },
      "outputs": [
        {
          "name": "stdout",
          "output_type": "stream",
          "text": [
            "Mounted at /content/drive\n"
          ]
        }
      ],
      "source": [
        "from google.colab import drive\n",
        "drive.mount('/content/drive')"
      ]
    },
    {
      "cell_type": "code",
      "execution_count": 7,
      "metadata": {
        "colab": {
          "base_uri": "https://localhost:8080/"
        },
        "id": "gMJZ12cSBWxJ",
        "outputId": "29432dca-9ed3-45fb-bf7d-8eeac49319dd"
      },
      "outputs": [
        {
          "name": "stderr",
          "output_type": "stream",
          "text": [
            "WARNING:absl:Compiled the loaded model, but the compiled metrics have yet to be built. `model.compile_metrics` will be empty until you train or evaluate the model.\n"
          ]
        },
        {
          "name": "stdout",
          "output_type": "stream",
          "text": [
            "\u001b[1m313/313\u001b[0m \u001b[32m━━━━━━━━━━━━━━━━━━━━\u001b[0m\u001b[37m\u001b[0m \u001b[1m0s\u001b[0m 610us/step - accuracy: 0.9733 - loss: 0.0970\n",
            "Test accuracy on clean images: 0.9768000245094299\n"
          ]
        }
      ],
      "source": [
        "import tensorflow as tf\n",
        "from tensorflow.keras.datasets import mnist\n",
        "from tensorflow.keras.utils import to_categorical\n",
        "(_, _), (test_images, test_labels) = mnist.load_data()\n",
        "\n",
        "test_images = test_images / 255.0\n",
        "test_labels = to_categorical(test_labels, num_classes=10)\n",
        "\n",
        "model = tf.keras.models.load_model('mnist_model.h5')\n",
        "\n",
        "test_loss, test_acc = model.evaluate(test_images, test_labels)\n",
        "print(f'Test accuracy on clean images: {test_acc}')\n"
      ]
    },
    {
      "cell_type": "markdown",
      "metadata": {
        "id": "c1d8hFVyBWxK"
      },
      "source": [
        "## 2. Теоретическая часть: Атака Carlini-Wagner\n",
        "- Атака Carlini-Wagner (CW) оптимизирует изображение, минимально изменяя его, чтобы модель дала неверный результат.\n",
        "- Цель атаки — сделать модификации настолько незаметными, что изображение всё ещё выглядит как исходное, но классифицируется неправильно.\n",
        "- Особенность CW атаки заключается в минимизации изменений с использованием разных норм (L2, L0, L∞), что делает её более точной по сравнению с другими атаками."
      ]
    },
    {
      "cell_type": "markdown",
      "metadata": {
        "id": "itSG9ztGBWxK"
      },
      "source": [
        "### Пункт 3\n"
      ]
    },
    {
      "cell_type": "code",
      "execution_count": 3,
      "metadata": {
        "colab": {
          "base_uri": "https://localhost:8080/"
        },
        "id": "SR1EkAiFBWxK",
        "outputId": "d4c1daae-8e9d-4daf-e736-49e87a94c56a"
      },
      "outputs": [
        {
          "name": "stdout",
          "output_type": "stream",
          "text": [
            "Collecting foolbox\n",
            "  Downloading foolbox-3.3.4-py3-none-any.whl.metadata (7.3 kB)\n",
            "Requirement already satisfied: numpy in /usr/local/lib/python3.10/dist-packages (from foolbox) (1.26.4)\n",
            "Requirement already satisfied: scipy in /usr/local/lib/python3.10/dist-packages (from foolbox) (1.13.1)\n",
            "Requirement already satisfied: setuptools in /usr/local/lib/python3.10/dist-packages (from foolbox) (75.1.0)\n",
            "Collecting eagerpy>=0.30.0 (from foolbox)\n",
            "  Downloading eagerpy-0.30.0-py3-none-any.whl.metadata (5.5 kB)\n",
            "Requirement already satisfied: GitPython>=3.0.7 in /usr/local/lib/python3.10/dist-packages (from foolbox) (3.1.43)\n",
            "Requirement already satisfied: typing-extensions>=3.7.4.1 in /usr/local/lib/python3.10/dist-packages (from foolbox) (4.12.2)\n",
            "Requirement already satisfied: requests>=2.24.0 in /usr/local/lib/python3.10/dist-packages (from foolbox) (2.32.3)\n",
            "Requirement already satisfied: gitdb<5,>=4.0.1 in /usr/local/lib/python3.10/dist-packages (from GitPython>=3.0.7->foolbox) (4.0.11)\n",
            "Requirement already satisfied: charset-normalizer<4,>=2 in /usr/local/lib/python3.10/dist-packages (from requests>=2.24.0->foolbox) (3.4.0)\n",
            "Requirement already satisfied: idna<4,>=2.5 in /usr/local/lib/python3.10/dist-packages (from requests>=2.24.0->foolbox) (3.10)\n",
            "Requirement already satisfied: urllib3<3,>=1.21.1 in /usr/local/lib/python3.10/dist-packages (from requests>=2.24.0->foolbox) (2.2.3)\n",
            "Requirement already satisfied: certifi>=2017.4.17 in /usr/local/lib/python3.10/dist-packages (from requests>=2.24.0->foolbox) (2024.8.30)\n",
            "Requirement already satisfied: smmap<6,>=3.0.1 in /usr/local/lib/python3.10/dist-packages (from gitdb<5,>=4.0.1->GitPython>=3.0.7->foolbox) (5.0.1)\n",
            "Downloading foolbox-3.3.4-py3-none-any.whl (1.7 MB)\n",
            "\u001b[2K   \u001b[90m━━━━━━━━━━━━━━━━━━━━━━━━━━━━━━━━━━━━━━━━\u001b[0m \u001b[32m1.7/1.7 MB\u001b[0m \u001b[31m28.3 MB/s\u001b[0m eta \u001b[36m0:00:00\u001b[0m\n",
            "\u001b[?25hDownloading eagerpy-0.30.0-py3-none-any.whl (31 kB)\n",
            "Installing collected packages: eagerpy, foolbox\n",
            "Successfully installed eagerpy-0.30.0 foolbox-3.3.4\n"
          ]
        }
      ],
      "source": [
        "pip install foolbox"
      ]
    },
    {
      "cell_type": "code",
      "execution_count": 8,
      "metadata": {
        "colab": {
          "base_uri": "https://localhost:8080/",
          "height": 428
        },
        "id": "CCc1xb6sBWxK",
        "outputId": "d0b980a3-10e3-4f1c-cad8-a705e3c2b835"
      },
      "outputs": [
        {
          "name": "stdout",
          "output_type": "stream",
          "text": [
            "tf.Tensor(7, shape=(), dtype=int64)\n"
          ]
        },
        {
          "data": {
            "image/png": "[encoded data removed]",
            "text/plain": [
              "<Figure size 1000x500 with 2 Axes>"
            ]
          },
          "metadata": {},
          "output_type": "display_data"
        }
      ],
      "source": [
        "import torch\n",
        "import torch.nn as nn\n",
        "import foolbox as fb\n",
        "import numpy as np\n",
        "import matplotlib.pyplot as plt\n",
        "import tensorflow as tf\n",
        "\n",
        "# Обратите внимание на смену диапазона bounds и нормализацию изображения\n",
        "fmodel = fb.TensorFlowModel(model, bounds=(0, 1))\n",
        "\n",
        "# Убедитесь, что изображение нормализовано в диапазоне [0, 1]\n",
        "image = tf.convert_to_tensor(test_images[0] / 255.0, dtype=tf.float32)[None, ...]\n",
        "label = np.argmax(test_labels[0])\n",
        "label = tf.convert_to_tensor(label, dtype=tf.int64)\n",
        "\n",
        "# Увеличьте число шагов для атаки CW\n",
        "attack = fb.attacks.L2CarliniWagnerAttack(steps=50)\n",
        "print(label)\n",
        "advs, _, success = attack(fmodel, image, label[None], epsilons=0.1)\n",
        "\n",
        "plt.figure(figsize=(10, 5))\n",
        "plt.subplot(1, 2, 1)\n",
        "plt.title(\"Оригинальное изображение\")\n",
        "plt.imshow(image[0].numpy(), cmap=\"gray\")\n",
        "plt.axis('off')\n",
        "\n",
        "plt.subplot(1, 2, 2)\n",
        "plt.title(\"Противоречивое изображение (CW Attack)\")\n",
        "plt.imshow(advs[0].numpy(), cmap=\"gray\")\n",
        "plt.axis('off')\n",
        "\n",
        "plt.show()\n"
      ]
    },
    {
      "cell_type": "markdown",
      "metadata": {
        "id": "sVqAxuwsBWxK"
      },
      "source": [
        "### Пункт 4 Оценка модели на противоречивых примерах"
      ]
    },
    {
      "cell_type": "code",
      "execution_count": 10,
      "metadata": {
        "colab": {
          "base_uri": "https://localhost:8080/",
          "height": 356
        },
        "id": "-fURA2q8BWxL",
        "outputId": "393eb10c-806b-40f5-ab68-6a260d68fd91"
      },
      "outputs": [
        {
          "name": "stdout",
          "output_type": "stream",
          "text": [
            "\u001b[1m313/313\u001b[0m \u001b[32m━━━━━━━━━━━━━━━━━━━━\u001b[0m\u001b[37m\u001b[0m \u001b[1m0s\u001b[0m 611us/step - accuracy: 0.0631 - loss: 2.0271\n",
            "Точность на противоречивых примерах (Carlini-Wagner): 0.06629999727010727\n"
          ]
        }
      ],
      "source": [
        "import tensorflow as tf\n",
        "import numpy as np\n",
        "\n",
        "# Список для хранения противоречивых изображений\n",
        "adversarial_images = []\n",
        "\n",
        "# Перебор каждого тестового изображения и создание противоречивого примера\n",
        "for i in range(len(test_images)):\n",
        "    image = tf.convert_to_tensor(test_images[i], dtype=tf.float32)[None, ...]  # Добавляем размерность батча\n",
        "    label = np.argmax(test_labels[i])  # Получаем индекс метки как скаляр\n",
        "    label = tf.convert_to_tensor(label, dtype=tf.int64)  # Преобразуем в тензор\n",
        "\n",
        "    # Выполнение атаки для создания противоречивого примера\n",
        "    advs, _, success = attack(fmodel, image, label[None], epsilons=0.01)  # Добавляем размерность батча к метке\n",
        "    adversarial_images.append(advs[0])  # Добавляем противоречивое изображение без лишней размерности батча\n",
        "\n",
        "# Объединяем все противоречивые изображения вдоль оси батча\n",
        "adversarial_images = tf.stack(adversarial_images, axis=0)  # Используем stack для одинаковой формы\n",
        "test_labels_tensor = tf.convert_to_tensor([np.argmax(lbl) for lbl in test_labels], dtype=tf.int64)  # Целочисленные метки\n",
        "\n",
        "# Преобразуем метки в формат one-hot для корректного ранга\n",
        "num_classes = model.output_shape[-1]  # Определяем количество классов по выходной форме модели\n",
        "test_labels_one_hot = tf.one_hot(test_labels_tensor, depth=num_classes)\n",
        "\n",
        "# Оцениваем точность модели на противоречивых изображениях\n",
        "adversarial_loss, adversarial_acc = model.evaluate(adversarial_images, test_labels_one_hot)\n",
        "print(f'Точность на противоречивых примерах (Carlini-Wagner): {adversarial_acc}')"
      ]
    },
    {
      "cell_type": "markdown",
      "metadata": {},
      "source": [
        "### Вывод "
      ]
    },
    {
      "cell_type": "markdown",
      "metadata": {},
      "source": [
        "Точность снизилась до 6.3%, можно сделать вывод, что атака выполнена успешно"
      ]
    }
  ],
  "metadata": {
    "accelerator": "GPU",
    "colab": {
      "gpuType": "T4",
      "provenance": []
    },
    "kernelspec": {
      "display_name": "Python (myenv)",
      "language": "python",
      "name": "myenv"
    },
    "language_info": {
      "codemirror_mode": {
        "name": "ipython",
        "version": 3
      },
      "file_extension": ".py",
      "mimetype": "text/x-python",
      "name": "python",
      "nbconvert_exporter": "python",
      "pygments_lexer": "ipython3",
      "version": "3.11.5"
    }
  },
  "nbformat": 4,
  "nbformat_minor": 0
}
