{
 "cells": [
  {
   "cell_type": "markdown",
   "metadata": {},
   "source": [
    "\n",
    "# Практика 4\n",
    "\n"
   ]
  },
  {
   "cell_type": "markdown",
   "metadata": {},
   "source": [
    "## Выполнил студент группы ББМО-01-23 Егоров Юрий Александрович"
   ]
  },
  {
   "cell_type": "markdown",
   "metadata": {},
   "source": [
    "### Пункт 1 Загрузка обученной модели и данных MNIST\n"
   ]
  },
  {
   "cell_type": "code",
   "execution_count": 1,
   "metadata": {},
   "outputs": [
    {
     "name": "stderr",
     "output_type": "stream",
     "text": [
      "WARNING:absl:Compiled the loaded model, but the compiled metrics have yet to be built. `model.compile_metrics` will be empty until you train or evaluate the model.\n"
     ]
    },
    {
     "name": "stdout",
     "output_type": "stream",
     "text": [
      "\u001b[1m313/313\u001b[0m \u001b[32m━━━━━━━━━━━━━━━━━━━━\u001b[0m\u001b[37m\u001b[0m \u001b[1m0s\u001b[0m 522us/step - accuracy: 0.9733 - loss: 0.0970\n",
      "Test accuracy on clean images: 0.9768000245094299\n"
     ]
    }
   ],
   "source": [
    "import tensorflow as tf\n",
    "from tensorflow.keras.datasets import mnist\n",
    "from tensorflow.keras.utils import to_categorical\n",
    "\n",
    "(_, _), (test_images, test_labels) = mnist.load_data()\n",
    "\n",
    "test_images = test_images / 255.0\n",
    "\n",
    "test_labels = to_categorical(test_labels, num_classes=10)\n",
    "\n",
    "model = tf.keras.models.load_model('mnist_model.h5')\n",
    "\n",
    "test_loss, test_acc = model.evaluate(test_images, test_labels)\n",
    "print(f'Test accuracy on clean images: {test_acc}')"
   ]
  },
  {
   "cell_type": "markdown",
   "metadata": {},
   "source": [
    "### Пункт 2 Реализация атаки Deepfool\n"
   ]
  },
  {
   "cell_type": "code",
   "execution_count": 4,
   "metadata": {},
   "outputs": [
    {
     "name": "stdout",
     "output_type": "stream",
     "text": [
      "Меточка класса: 2\n"
     ]
    },
    {
     "data": {
      "image/png": "[encoded data removed]",
      "text/plain": [
       "<Figure size 1000x500 with 2 Axes>"
      ]
     },
     "metadata": {},
     "output_type": "display_data"
    }
   ],
   "source": [
    "import foolbox as fb\n",
    "import numpy as np\n",
    "import matplotlib.pyplot as plt\n",
    "import tensorflow as tf\n",
    "\n",
    "# Инициализация модели в Foolbox\n",
    "# Указываем модель и пределы входных значений (-1, 1)\n",
    "fmodel = fb.TensorFlowModel(model, bounds=(-1, 1))\n",
    "\n",
    "# Получение изображения и метки из тестового набора данных\n",
    "# Преобразуем изображение в тензор и добавляем размерность для батча\n",
    "image = tf.convert_to_tensor(test_images[1], dtype=tf.float32)[None, ...]\n",
    "label = tf.convert_to_tensor(np.argmax(test_labels[1]), dtype=tf.int64)\n",
    "\n",
    "# Определяем и настраиваем атаку L2 DeepFool\n",
    "# Указываем количество шагов для атаки\n",
    "attack = fb.attacks.L2DeepFoolAttack(steps=15)  # Заменено на 15 шагов для демонстрации различия\n",
    "print(\"Меточка класса:\", label.numpy())\n",
    "\n",
    "# Выполнение атаки с epsilon=0.01\n",
    "# Оборачиваем метку в тензор с размерностью (1,)\n",
    "advs, _, success = attack(fmodel, image, label[None], epsilons=0.01)\n",
    "\n",
    "# Визуализация исходного и измененного изображений\n",
    "plt.figure(figsize=(10, 5))\n",
    "\n",
    "# Исходное изображение\n",
    "plt.subplot(1, 2, 1)\n",
    "plt.title(\"Оригинальное изображение\")\n",
    "plt.imshow(image[0].numpy(), cmap=\"gray\")\n",
    "plt.axis('off')\n",
    "\n",
    "# Измененное изображение после атаки\n",
    "plt.subplot(1, 2, 2)\n",
    "plt.title(\"Изображение после атаки (DeepFool)\")\n",
    "plt.imshow(advs[0].numpy(), cmap=\"gray\")\n",
    "plt.axis('off')\n",
    "\n",
    "# Отображение графиков\n",
    "plt.show()\n"
   ]
  },
  {
   "cell_type": "markdown",
   "metadata": {},
   "source": [
    "### Пункт 3\n",
    " Оценка модели на противоречивых примерах"
   ]
  },
  {
   "cell_type": "code",
   "execution_count": 7,
   "metadata": {},
   "outputs": [
    {
     "name": "stdout",
     "output_type": "stream",
     "text": [
      "\u001b[1m313/313\u001b[0m \u001b[32m━━━━━━━━━━━━━━━━━━━━\u001b[0m\u001b[37m\u001b[0m \u001b[1m0s\u001b[0m 642us/step - accuracy: 0.0000e+00 - loss: 136.9725\n",
      "Точность на противоречивых примерах (DeepFool): 0.0\n"
     ]
    }
   ],
   "source": [
    "import tensorflow as tf\n",
    "import numpy as np\n",
    "\n",
    "# Список для хранения противоречивых изображений\n",
    "adversarial_images = []\n",
    "\n",
    "# Перебор каждого тестового изображения и создание противоречивого примера\n",
    "for i in range(len(test_images)):\n",
    "    image = tf.convert_to_tensor(test_images[i], dtype=tf.float32)[None, ...]  # Добавляем размерность батча\n",
    "    label = np.argmax(test_labels[i])  # Получаем индекс метки как скаляр\n",
    "    label = tf.convert_to_tensor(label, dtype=tf.int64)  # Преобразуем в тензор\n",
    "    \n",
    "    # Выполнение атаки для создания противоречивого примера\n",
    "    advs, _, success = attack(fmodel, image, label[None], epsilons=0.01)  # Добавляем размерность батча к метке\n",
    "    adversarial_images.append(advs[0])  # Добавляем противоречивое изображение без лишней размерности батча\n",
    "\n",
    "# Объединяем все противоречивые изображения вдоль оси батча\n",
    "adversarial_images = tf.stack(adversarial_images, axis=0)  # Используем stack для одинаковой формы\n",
    "test_labels_tensor = tf.convert_to_tensor([np.argmax(lbl) for lbl in test_labels], dtype=tf.int64)  # Целочисленные метки\n",
    "\n",
    "# Преобразуем метки в формат one-hot для корректного ранга\n",
    "num_classes = model.output_shape[-1]  # Определяем количество классов по выходной форме модели\n",
    "test_labels_one_hot = tf.one_hot(test_labels_tensor, depth=num_classes)\n",
    "\n",
    "# Оцениваем точность модели на противоречивых изображениях\n",
    "adversarial_loss, adversarial_acc = model.evaluate(adversarial_images, test_labels_one_hot)\n",
    "print(f'Точность на противоречивых примерах (DeepFool): {adversarial_acc}')\n"
   ]
  },
  {
   "cell_type": "markdown",
   "metadata": {},
   "source": [
    "### Вывод"
   ]
  },
  {
   "cell_type": "code",
   "execution_count": null,
   "metadata": {},
   "outputs": [],
   "source": []
  },
  {
   "cell_type": "markdown",
   "metadata": {},
   "source": [
    "Точность модели на атакованных применарх составила около %0, что говорит о том, что мождель не справляется с задачей распознавания в условиях небольших целеноправленных искажений."
   ]
  }
 ],
 "metadata": {
  "kernelspec": {
   "display_name": "Python (myenv)",
   "language": "python",
   "name": "myenv"
  },
  "language_info": {
   "codemirror_mode": {
    "name": "ipython",
    "version": 3
   },
   "file_extension": ".py",
   "mimetype": "text/x-python",
   "name": "python",
   "nbconvert_exporter": "python",
   "pygments_lexer": "ipython3",
   "version": "3.11.5"
  }
 },
 "nbformat": 4,
 "nbformat_minor": 2
}
