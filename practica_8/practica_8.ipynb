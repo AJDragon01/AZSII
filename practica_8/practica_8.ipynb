{
  "cells": [
    {
      "cell_type": "markdown",
      "metadata": {},
      "source": [
        "# Загрузка и подготовка данных\n",
        "В этом блоке происходит загрузка данных MNIST, их нормализация и преобразование меток в one-hot encoding."
      ]
    },
    {
      "cell_type": "code",
      "metadata": {},
      "source": [
        "import tensorflow as tf\n",
        "import numpy as np\n",
        "from tensorflow.keras.datasets import mnist\n\n",
        "# Загрузка и ограничение объёма данных\n",
        "def load_and_preprocess_data():\n",
        "    (x_train, y_train), (x_test, y_test) = mnist.load_data()\n",
        "    x_train, x_test = x_train / 255.0, x_test / 255.0  # Нормализация\n",
        "    y_train = tf.keras.utils.to_categorical(y_train, 10)  # One-hot encoding\n",
        "    y_test = tf.keras.utils.to_categorical(y_test, 10)\n",
        "    return x_train[:1000], y_train[:1000], x_test, y_test\n\n",
        "# Загрузка данных\n",
        "train_images, train_labels, test_images, test_labels = load_and_preprocess_data()"
      ],
      "outputs": []
    },
    {
      "cell_type": "markdown",
      "metadata": {},
      "source": [
        "# Определение моделей\n",
        "В этом блоке определяются базовая модель, модель с градиентной маскировкой и модель с регуляризацией."
      ]
    },
    {
      "cell_type": "code",
      "metadata": {},
      "source": [
        "# Базовая модель\n",
        "def build_model():\n",
        "    nn_model = tf.keras.Sequential([\n",
        "        tf.keras.layers.Flatten(input_shape=(28, 28)),\n",
        "        tf.keras.layers.Dense(128, activation='relu'),\n",
        "        tf.keras.layers.Dense(10, activation='softmax')\n",
        "    ])\n",
        "    nn_model.compile(optimizer='adam', loss='categorical_crossentropy', metrics=['accuracy'])\n",
        "    return nn_model\n\n",
        "# Модель с градиентной маскировкой\n",
        "def build_masked_model():\n",
        "    model = tf.keras.Sequential([\n",
        "        tf.keras.layers.Flatten(input_shape=(28, 28)),\n",
        "        tf.keras.layers.Dense(128, activation='relu'),\n",
        "        tf.keras.layers.Dense(10),\n",
        "        tf.keras.layers.Activation('softplus')\n",
        "    ])\n",
        "    model.compile(optimizer='adam', loss='categorical_crossentropy', metrics=['accuracy'])\n",
        "    return model\n\n",
        "# Модель с регуляризацией и нормализацией\n",
        "def build_regularized_model():\n",
        "    model = tf.keras.Sequential([\n",
        "        tf.keras.layers.Flatten(input_shape=(28, 28)),\n",
        "        tf.keras.layers.Dense(128, activation='relu', kernel_regularizer=tf.keras.regularizers.l2(0.01)),\n",
        "        tf.keras.layers.Dropout(0.5),\n",
        "        tf.keras.layers.BatchNormalization(),\n",
        "        tf.keras.layers.Dense(10, activation='softmax')\n",
        "    ])\n",
        "    model.compile(optimizer='adam', loss='categorical_crossentropy', metrics=['accuracy'])\n",
        "    return model"
      ],
      "outputs": []
    },
    {
      "cell_type": "markdown",
      "metadata": {},
      "source": [
        "# Реализация FGSM атаки\n",
        "Генерация противоречивых примеров с использованием FGSM."
      ]
    },
    {
      "cell_type": "code",
      "metadata": {},
      "source": [
        "# FGSM атака\n",
        "def fgsm_attack(image, epsilon, gradient):\n",
        "    perturbation = epsilon * tf.sign(gradient)\n",
        "    adversarial_image = image + perturbation\n",
        "    return tf.clip_by_value(adversarial_image, 0, 1)\n\n",
        "# Генерация противоречивых примеров\n",
        "def create_adversarial_samples(model, input_images, input_labels, eps):\n",
        "    generated_samples = []\n",
        "    for idx in range(len(input_images)):\n",
        "        img = tf.convert_to_tensor(input_images[idx].reshape((1, 28, 28, 1)), dtype=tf.float32)\n",
        "        lbl = tf.convert_to_tensor(input_labels[idx].reshape((1, 10)), dtype=tf.float32)\n",
        "        with tf.GradientTape() as tape:\n",
        "            tape.watch(img)\n",
        "            preds = model(img)\n",
        "            cost = tf.keras.losses.categorical_crossentropy(lbl, preds)\n",
        "        grad = tape.gradient(cost, img)\n",
        "        adversarial_img = fgsm_attack(img, eps, grad)\n",
        "        generated_samples.append(adversarial_img.numpy().reshape(28, 28))\n",
        "    return np.array(generated_samples)"
      ],
      "outputs": []
    },
    {
      "cell_type": "markdown",
      "metadata": {},
      "source": [
        "# Обучение и сохранение моделей\n",
        "Этот блок содержит процесс обучения моделей и их сохранения."
      ]
    },
    {
      "cell_type": "code",
      "metadata": {},
      "source": [
        "# Обучение базовой модели\n",
        "base_model = build_model()\n",
        "base_model.fit(train_images, train_labels, epochs=5)\n",
        "base_model.save('base_model.h5')\n\n",
        "# Обучение модели с градиентной маскировкой\n",
        "masked_model = build_masked_model()\n",
        "masked_model.fit(train_images, train_labels, epochs=5)\n",
        "masked_model.save('masked_model.h5')\n\n",
        "# Обучение модели с регуляризацией и нормализацией\n",
        "regularized_model = build_regularized_model()\n",
        "regularized_model.fit(train_images, train_labels, epochs=5)\n",
        "regularized_model.save('regularized_model.h5')"
      ],
      "outputs": []
    }
  ],
  "metadata": {
    "colab": {
      "provenance": []
    },
    "language_info": {
      "name": "python"
    },
    "kernelspec": {
      "name": "python3",
      "display_name": "Python 3"
    }
  },
  "nbformat": 4,
  "nbformat_minor": 5
}