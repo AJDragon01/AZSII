{
  "cells": [
    {
      "cell_type": "markdown",
      "id": "e6336305",
      "metadata": {},
      "source": [
        "# Практика 8: Методы защиты от атак на модели ИИ\n",
        "\n",
        "## Выполнил студент группы ББМО-01-23 Егоров Ю.А.\n",
        "\n",
        "## Загрузка и подготовка данных\n",
        "В этом блоке происходит загрузка данных MNIST, их нормализация и преобразование меток в one-hot encoding."
      ]
    },
    {
      "cell_type": "code",
      "execution_count": 9,
      "id": "b11d1992",
      "metadata": {},
      "outputs": [],
      "source": [
        "import tensorflow as tf\n",
        "import numpy as np\n",
        "from tensorflow.keras.datasets import mnist\n",
        "\n",
        "# Загрузка и ограничение объёма данных\n",
        "def load_and_preprocess_data():\n",
        "    (x_train, y_train), (x_test, y_test) = mnist.load_data()\n",
        "    x_train, x_test = x_train / 255.0, x_test / 255.0  # Нормализация\n",
        "    y_train = tf.keras.utils.to_categorical(y_train, 10)  # One-hot encoding\n",
        "    y_test = tf.keras.utils.to_categorical(y_test, 10)\n",
        "    return x_train[:1000], y_train[:1000], x_test, y_test\n",
        "\n",
        "# Загрузка данных\n",
        "train_images, train_labels, test_images, test_labels = load_and_preprocess_data()"
      ]
    },
    {
      "cell_type": "markdown",
      "id": "a8296a47",
      "metadata": {},
      "source": [
        "# Определение моделей\n",
        "В этом блоке определяются базовая модель, модель с градиентной маскировкой и модель с регуляризацией."
      ]
    },
    {
      "cell_type": "code",
      "execution_count": 10,
      "id": "db3338bc",
      "metadata": {},
      "outputs": [],
      "source": [
        "# Базовая модель\n",
        "def build_model():\n",
        "    nn_model = tf.keras.Sequential([\n",
        "        tf.keras.layers.Flatten(input_shape=(28, 28)),\n",
        "        tf.keras.layers.Dense(128, activation='relu'),\n",
        "        tf.keras.layers.Dense(10, activation='softmax')\n",
        "    ])\n",
        "    nn_model.compile(optimizer='adam', loss='categorical_crossentropy', metrics=['accuracy'])\n",
        "    return nn_model\n",
        "\n",
        "# Модель с градиентной маскировкой\n",
        "def build_masked_model():\n",
        "    model = tf.keras.Sequential([\n",
        "        tf.keras.layers.Flatten(input_shape=(28, 28)),\n",
        "        tf.keras.layers.Dense(128, activation='relu'),\n",
        "        tf.keras.layers.Dense(10),\n",
        "        tf.keras.layers.Activation('softplus')\n",
        "    ])\n",
        "    model.compile(optimizer='adam', loss='categorical_crossentropy', metrics=['accuracy'])\n",
        "    return model\n",
        "\n",
        "# Модель с регуляризацией и нормализацией\n",
        "def build_regularized_model():\n",
        "    model = tf.keras.Sequential([\n",
        "        tf.keras.layers.Flatten(input_shape=(28, 28)),\n",
        "        tf.keras.layers.Dense(128, activation='relu', kernel_regularizer=tf.keras.regularizers.l2(0.01)),\n",
        "        tf.keras.layers.Dropout(0.5),\n",
        "        tf.keras.layers.BatchNormalization(),\n",
        "        tf.keras.layers.Dense(10, activation='softmax')\n",
        "    ])\n",
        "    model.compile(optimizer='adam', loss='categorical_crossentropy', metrics=['accuracy'])\n",
        "    return model\n",
        "\n",
        "# Адаптивное обучение с противоречивыми примерами\n",
        "def robust_training(neural_net, dataset_images, dataset_labels, eps_value):\n",
        "    for ep in range(5):  # Небольшое количество эпох для демонстрации\n",
        "        for start in range(0, len(dataset_images), 32):\n",
        "            subset_images = dataset_images[start:start+32]\n",
        "            subset_labels = dataset_labels[start:start+32]\n",
        "            adversarial_set = create_adversarial_samples(neural_net, subset_images, subset_labels, eps_value)\n",
        "            combined_imgs = np.concatenate([subset_images, adversarial_set], axis=0)\n",
        "            combined_lbls = np.concatenate([subset_labels, subset_labels], axis=0)\n",
        "            neural_net.train_on_batch(combined_imgs, combined_lbls)\n"
      ]
    },
    {
      "cell_type": "markdown",
      "id": "df1adf1c",
      "metadata": {},
      "source": [
        "# Реализация FGSM атаки\n",
        "Генерация противоречивых примеров с использованием FGSM."
      ]
    },
    {
      "cell_type": "code",
      "execution_count": 11,
      "id": "ec0c8828",
      "metadata": {},
      "outputs": [],
      "source": [
        "# FGSM атака\n",
        "def fgsm_attack(image, epsilon, gradient):\n",
        "    perturbation = epsilon * tf.sign(gradient)\n",
        "    adversarial_image = image + perturbation\n",
        "    return tf.clip_by_value(adversarial_image, 0, 1)\n",
        "\n",
        "# Генерация противоречивых примеров\n",
        "def create_adversarial_samples(model, input_images, input_labels, eps):\n",
        "    generated_samples = []\n",
        "    for idx in range(len(input_images)):\n",
        "        img = tf.convert_to_tensor(input_images[idx].reshape((1, 28, 28, 1)), dtype=tf.float32)\n",
        "        lbl = tf.convert_to_tensor(input_labels[idx].reshape((1, 10)), dtype=tf.float32)\n",
        "        with tf.GradientTape() as tape:\n",
        "            tape.watch(img)\n",
        "            preds = model(img)\n",
        "            cost = tf.keras.losses.categorical_crossentropy(lbl, preds)\n",
        "        grad = tape.gradient(cost, img)\n",
        "        adversarial_img = fgsm_attack(img, eps, grad)\n",
        "        generated_samples.append(adversarial_img.numpy().reshape(28, 28))\n",
        "    return np.array(generated_samples)"
      ]
    },
    {
      "cell_type": "markdown",
      "id": "67a0f11c",
      "metadata": {},
      "source": [
        "# Обучение и сохранение моделей\n",
        "Этот блок содержит процесс обучения моделей и их сохранения."
      ]
    },
    {
      "cell_type": "code",
      "execution_count": 12,
      "id": "e4b91737",
      "metadata": {},
      "outputs": [
        {
          "name": "stdout",
          "output_type": "stream",
          "text": [
            "Epoch 1/5\n",
            "\u001b[1m32/32\u001b[0m \u001b[32m━━━━━━━━━━━━━━━━━━━━\u001b[0m\u001b[37m\u001b[0m \u001b[1m1s\u001b[0m 1ms/step - accuracy: 0.4398 - loss: 1.8023   \n",
            "Epoch 2/5\n",
            "\u001b[1m32/32\u001b[0m \u001b[32m━━━━━━━━━━━━━━━━━━━━\u001b[0m\u001b[37m\u001b[0m \u001b[1m0s\u001b[0m 1ms/step - accuracy: 0.8357 - loss: 0.6510 \n",
            "Epoch 3/5\n",
            "\u001b[1m32/32\u001b[0m \u001b[32m━━━━━━━━━━━━━━━━━━━━\u001b[0m\u001b[37m\u001b[0m \u001b[1m0s\u001b[0m 1ms/step - accuracy: 0.9074 - loss: 0.4071 \n",
            "Epoch 4/5\n",
            "\u001b[1m32/32\u001b[0m \u001b[32m━━━━━━━━━━━━━━━━━━━━\u001b[0m\u001b[37m\u001b[0m \u001b[1m0s\u001b[0m 1ms/step - accuracy: 0.9153 - loss: 0.3236 \n",
            "Epoch 5/5\n",
            "\u001b[1m32/32\u001b[0m \u001b[32m━━━━━━━━━━━━━━━━━━━━\u001b[0m\u001b[37m\u001b[0m \u001b[1m0s\u001b[0m 1ms/step - accuracy: 0.9552 - loss: 0.2471 \n"
          ]
        },
        {
          "name": "stderr",
          "output_type": "stream",
          "text": [
            "WARNING:absl:You are saving your model as an HDF5 file via `model.save()` or `keras.saving.save_model(model)`. This file format is considered legacy. We recommend using instead the native Keras format, e.g. `model.save('my_model.keras')` or `keras.saving.save_model(model, 'my_model.keras')`. \n"
          ]
        },
        {
          "name": "stdout",
          "output_type": "stream",
          "text": [
            "Epoch 1/5\n",
            "\u001b[1m32/32\u001b[0m \u001b[32m━━━━━━━━━━━━━━━━━━━━\u001b[0m\u001b[37m\u001b[0m \u001b[1m1s\u001b[0m 1ms/step - accuracy: 0.4330 - loss: 1.9458   \n",
            "Epoch 2/5\n",
            "\u001b[1m32/32\u001b[0m \u001b[32m━━━━━━━━━━━━━━━━━━━━\u001b[0m\u001b[37m\u001b[0m \u001b[1m0s\u001b[0m 2ms/step - accuracy: 0.8342 - loss: 0.8479 \n",
            "Epoch 3/5\n",
            "\u001b[1m32/32\u001b[0m \u001b[32m━━━━━━━━━━━━━━━━━━━━\u001b[0m\u001b[37m\u001b[0m \u001b[1m0s\u001b[0m 2ms/step - accuracy: 0.8926 - loss: 0.4383\n",
            "Epoch 4/5\n",
            "\u001b[1m32/32\u001b[0m \u001b[32m━━━━━━━━━━━━━━━━━━━━\u001b[0m\u001b[37m\u001b[0m \u001b[1m0s\u001b[0m 2ms/step - accuracy: 0.9323 - loss: 0.3061\n",
            "Epoch 5/5\n",
            "\u001b[1m32/32\u001b[0m \u001b[32m━━━━━━━━━━━━━━━━━━━━\u001b[0m\u001b[37m\u001b[0m \u001b[1m0s\u001b[0m 2ms/step - accuracy: 0.9475 - loss: 0.2687\n"
          ]
        },
        {
          "name": "stderr",
          "output_type": "stream",
          "text": [
            "WARNING:absl:You are saving your model as an HDF5 file via `model.save()` or `keras.saving.save_model(model)`. This file format is considered legacy. We recommend using instead the native Keras format, e.g. `model.save('my_model.keras')` or `keras.saving.save_model(model, 'my_model.keras')`. \n"
          ]
        },
        {
          "name": "stdout",
          "output_type": "stream",
          "text": [
            "Epoch 1/5\n",
            "\u001b[1m32/32\u001b[0m \u001b[32m━━━━━━━━━━━━━━━━━━━━\u001b[0m\u001b[37m\u001b[0m \u001b[1m1s\u001b[0m 1ms/step - accuracy: 0.2444 - loss: 4.2218   \n",
            "Epoch 2/5\n",
            "\u001b[1m32/32\u001b[0m \u001b[32m━━━━━━━━━━━━━━━━━━━━\u001b[0m\u001b[37m\u001b[0m \u001b[1m0s\u001b[0m 1ms/step - accuracy: 0.7113 - loss: 2.2391 \n",
            "Epoch 3/5\n",
            "\u001b[1m32/32\u001b[0m \u001b[32m━━━━━━━━━━━━━━━━━━━━\u001b[0m\u001b[37m\u001b[0m \u001b[1m0s\u001b[0m 1ms/step - accuracy: 0.8036 - loss: 1.7198 \n",
            "Epoch 4/5\n",
            "\u001b[1m32/32\u001b[0m \u001b[32m━━━━━━━━━━━━━━━━━━━━\u001b[0m\u001b[37m\u001b[0m \u001b[1m0s\u001b[0m 2ms/step - accuracy: 0.8630 - loss: 1.4868\n",
            "Epoch 5/5\n",
            "\u001b[1m32/32\u001b[0m \u001b[32m━━━━━━━━━━━━━━━━━━━━\u001b[0m\u001b[37m\u001b[0m \u001b[1m0s\u001b[0m 1ms/step - accuracy: 0.8894 - loss: 1.2979 \n"
          ]
        },
        {
          "name": "stderr",
          "output_type": "stream",
          "text": [
            "WARNING:absl:You are saving your model as an HDF5 file via `model.save()` or `keras.saving.save_model(model)`. This file format is considered legacy. We recommend using instead the native Keras format, e.g. `model.save('my_model.keras')` or `keras.saving.save_model(model, 'my_model.keras')`. \n",
            "WARNING:absl:You are saving your model as an HDF5 file via `model.save()` or `keras.saving.save_model(model)`. This file format is considered legacy. We recommend using instead the native Keras format, e.g. `model.save('my_model.keras')` or `keras.saving.save_model(model, 'my_model.keras')`. \n"
          ]
        }
      ],
      "source": [
        "# Обучение базовой модели\n",
        "base_model = build_model()\n",
        "base_model.fit(train_images, train_labels, epochs=5)\n",
        "base_model.save('base_model.h5')\n",
        "\n",
        "# Обучение модели с градиентной маскировкой\n",
        "masked_model = build_masked_model()\n",
        "masked_model.fit(train_images, train_labels, epochs=5)\n",
        "masked_model.save('masked_model.h5')\n",
        "\n",
        "# Обучение модели с регуляризацией и нормализацией\n",
        "regularized_model = build_regularized_model()\n",
        "regularized_model.fit(train_images, train_labels, epochs=5)\n",
        "regularized_model.save('regularized_model.h5')\n",
        "\n",
        "# Обучение модели с использованием противоречивых примеров\n",
        "adv_model = build_model()\n",
        "robust_training(adv_model, train_images, train_labels, eps_value=0.1)\n",
        "adv_model.save('adversarial_trained_model.h5') \n"
      ]
    },
    {
      "cell_type": "markdown",
      "id": "2953b47a",
      "metadata": {},
      "source": [
        "###  Оценка моделей"
      ]
    },
    {
      "cell_type": "code",
      "execution_count": 13,
      "id": "e67dd59d",
      "metadata": {},
      "outputs": [
        {
          "name": "stdout",
          "output_type": "stream",
          "text": [
            "Точность базовой модели на противоречивых примерах:\n",
            "\u001b[1m313/313\u001b[0m \u001b[32m━━━━━━━━━━━━━━━━━━━━\u001b[0m\u001b[37m\u001b[0m \u001b[1m0s\u001b[0m 646us/step - accuracy: 0.1050 - loss: 3.1505\n"
          ]
        },
        {
          "name": "stderr",
          "output_type": "stream",
          "text": [
            "WARNING:absl:Compiled the loaded model, but the compiled metrics have yet to be built. `model.compile_metrics` will be empty until you train or evaluate the model.\n"
          ]
        },
        {
          "name": "stdout",
          "output_type": "stream",
          "text": [
            "Точность модели с обучением на противоречивых примерах:\n",
            "\u001b[1m313/313\u001b[0m \u001b[32m━━━━━━━━━━━━━━━━━━━━\u001b[0m\u001b[37m\u001b[0m \u001b[1m0s\u001b[0m 571us/step - accuracy: 0.5820 - loss: 1.1971\n"
          ]
        },
        {
          "name": "stderr",
          "output_type": "stream",
          "text": [
            "WARNING:absl:Compiled the loaded model, but the compiled metrics have yet to be built. `model.compile_metrics` will be empty until you train or evaluate the model.\n"
          ]
        },
        {
          "name": "stdout",
          "output_type": "stream",
          "text": [
            "Точность модели с градиентной маскировкой:\n",
            "\u001b[1m313/313\u001b[0m \u001b[32m━━━━━━━━━━━━━━━━━━━━\u001b[0m\u001b[37m\u001b[0m \u001b[1m0s\u001b[0m 625us/step - accuracy: 0.3688 - loss: 1.9370\n",
            "Точность модели с регуляризацией и нормализацией:\n"
          ]
        },
        {
          "name": "stderr",
          "output_type": "stream",
          "text": [
            "WARNING:absl:Compiled the loaded model, but the compiled metrics have yet to be built. `model.compile_metrics` will be empty until you train or evaluate the model.\n"
          ]
        },
        {
          "name": "stdout",
          "output_type": "stream",
          "text": [
            "\u001b[1m313/313\u001b[0m \u001b[32m━━━━━━━━━━━━━━━━━━━━\u001b[0m\u001b[37m\u001b[0m \u001b[1m1s\u001b[0m 968us/step - accuracy: 0.5392 - loss: 2.2045\n"
          ]
        },
        {
          "data": {
            "text/plain": [
              "[2.0966432094573975, 0.588699996471405]"
            ]
          },
          "execution_count": 13,
          "metadata": {},
          "output_type": "execute_result"
        }
      ],
      "source": [
        "# Шаг 4: Оценка моделей\n",
        "# Генерация противоречивых примеров для тестирования\n",
        "adversarial_test_images = create_adversarial_samples(base_model, test_images, test_labels, eps=0.1)\n",
        "\n",
        "# Оценка базовой модели\n",
        "print(\"Точность базовой модели на противоречивых примерах:\")\n",
        "base_model.evaluate(adversarial_test_images, test_labels)\n",
        "\n",
        "# Оценка модели с обучением на противоречивых примерах\n",
        "print(\"Точность модели с обучением на противоречивых примерах:\")\n",
        "adv_model = tf.keras.models.load_model('adversarial_trained_model.h5')\n",
        "adv_model.evaluate(adversarial_test_images, test_labels)\n",
        "\n",
        "# Оценка модели с градиентной маскировкой\n",
        "print(\"Точность модели с градиентной маскировкой:\")\n",
        "masked_model = tf.keras.models.load_model('masked_model.h5')\n",
        "masked_model.evaluate(adversarial_test_images, test_labels)\n",
        "\n",
        "# Оценка модели с регуляризацией и нормализацией\n",
        "print(\"Точность модели с регуляризацией и нормализацией:\")\n",
        "regularized_model = tf.keras.models.load_model('regularized_model.h5')\n",
        "regularized_model.evaluate(adversarial_test_images, test_labels)\n"
      ]
    },
    {
      "cell_type": "markdown",
      "id": "cffe194c",
      "metadata": {},
      "source": [
        " ## Вывод \n",
        "\n",
        "В ходе эксперимента была проведена оценка эффективности различных методов защиты моделей от атак с использованием противоречивых примеров. Полученные результаты позволяют сделать следующие выводы:\n",
        "\n",
        "- 1.Базовая модель продемонстрировала точность 10,5% и уровень потерь 3,15, что подтверждает её высокую уязвимость к FGSM-атакам. Это свидетельствует о недостаточной устойчивости модели без применения дополнительных механизмов защиты.\n",
        "- 2.Модель с обучением на противоречивых примерах (Adversarial Training) показала заметное улучшение: точность составила 58,2%, а уровень потерь снизился до 1,19. Данный метод продемонстрировал свою эффективность в повышении устойчивости модели к атакам.\n",
        "- 3.Модель с градиентной маскировкой (Gradient Masking) достигла точности 36,88% и уровня потерь 1,94. Несмотря на некоторый прогресс по сравнению с базовой моделью, её результаты уступают модели с обучением на противоречивых примерах, что указывает на ограниченность метода.\n",
        "- 4.Модель с регуляризацией и нормализацией показала точность 53,92% и уровень потерь 2,20, что близко к результатам модели с обучением на противоречивых примерах. Это подчёркивает значимость регуляризации и нормализации для повышения устойчивости к атакам.\n",
        "\n",
        "Таким образом, наиболее эффективным методом защиты оказалась Adversarial Training, что подтверждается самой высокой точностью. В то же время, использование регуляризации и нормализации также демонстрирует потенциал для повышения устойчивости модели. В дальнейшем рекомендуется исследовать комбинирование различных методов защиты, таких как Adversarial Training, Gradient Masking и регуляризация, для создания более устойчивых архитектур, способных сохранять точность даже в условиях атак."
      ]
    }
  ],
  "metadata": {
    "colab": {
      "provenance": []
    },
    "kernelspec": {
      "display_name": "Python 3",
      "name": "python3"
    },
    "language_info": {
      "codemirror_mode": {
        "name": "ipython",
        "version": 3
      },
      "file_extension": ".py",
      "mimetype": "text/x-python",
      "name": "python",
      "nbconvert_exporter": "python",
      "pygments_lexer": "ipython3",
      "version": "3.11.5"
    }
  },
  "nbformat": 4,
  "nbformat_minor": 5
}
